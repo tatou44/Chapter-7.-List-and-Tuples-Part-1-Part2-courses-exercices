{
 "cells": [
  {
   "cell_type": "code",
   "execution_count": 7,
   "metadata": {},
   "outputs": [
    {
     "name": "stdout",
     "output_type": "stream",
     "text": [
      "min: 1\n",
      "max: 5\n",
      "total: 9 \n"
     ]
    }
   ],
   "source": [
    "# Part 01:\n",
    "\n",
    "# Exercice 01:\n",
    "\n",
    "def get_sum(numbers):\n",
    "\n",
    "    # initialize min, max and total:\n",
    "    min = numbers[0]\n",
    "    max = numbers[1]\n",
    "    total = 0\n",
    "    \n",
    "    # find max and min:\n",
    "    for v in numbers:\n",
    "        if v < min:\n",
    "            min = v\n",
    "        if v > max:\n",
    "            max = v\n",
    "    # calculate sum excluding min and max:        \n",
    "    for v in numbers:\n",
    "        if v != min and v != max:\n",
    "            total = total + v\n",
    "\n",
    "    return min, max, total \n",
    "\n",
    "def main():\n",
    "\n",
    "    # creating a list:\n",
    "    lst = []\n",
    "    l = int(input('enter length of your list: '))\n",
    "    \n",
    "    # fill the list 'lst': \n",
    "    for i in range(l):\n",
    "        user_inputs = int(input('enter a number: '))  \n",
    "        lst.insert(i, user_inputs)   \n",
    "\n",
    "    # call the function get_sum():\n",
    "    min, max, total = get_sum(lst)  # pass the created list 'lst'\n",
    "    print(f'min: {min}\\nmax: {max}\\ntotal: {total} ')\n",
    "\n",
    "# call the mai():\n",
    "if __name__ == '__main__':\n",
    "    main()\n"
   ]
  },
  {
   "cell_type": "code",
   "execution_count": 12,
   "metadata": {},
   "outputs": [
    {
     "name": "stdout",
     "output_type": "stream",
     "text": [
      "min value is :  5\n",
      "list numbers with min value placed at 0 index:\n",
      " [5, 18, 24, 53, 31]\n"
     ]
    }
   ],
   "source": [
    "# Exercice 02, generate a list , find a min than swap with first element:\n",
    "\n",
    "# define function to genrate a list:\n",
    "import random\n",
    "def genRandom(N):\n",
    "    return [random.randint(0, 100) for _ in range(N)]\n",
    "\n",
    "# define function to find min the generated list than swap it with the first element:\n",
    "def findMin():\n",
    "    N = int(input('enter the length of your list: '))\n",
    "    numbers = genRandom(N)  # call genRandom() to create the list\n",
    "    \n",
    "    # find the min using built-in function min():\n",
    "    min_val = min(numbers)\n",
    "\n",
    "    # find index of min_val using index() function:\n",
    "    i_min = numbers.index(min_val)\n",
    "\n",
    "    # swap the min_val with the first element:\n",
    "    numbers[i_min], numbers[0] = numbers[0], numbers[i_min]\n",
    "\n",
    "    print('min value is : ', min_val)\n",
    "    print('list numbers with min value placed at 0 index:\\n',numbers)\n",
    "\n",
    "# call the findMin():\n",
    "findMin()     \n"
   ]
  },
  {
   "cell_type": "code",
   "execution_count": 17,
   "metadata": {},
   "outputs": [
    {
     "name": "stdout",
     "output_type": "stream",
     "text": [
      "the original list: [35, 15, 85, 5, 6, 67, 60, 75, 82, 12]\n",
      "The average:  44.2\n",
      "Filtered list:  [85, 67, 60, 75, 82]\n"
     ]
    }
   ],
   "source": [
    "# Exercice 03, append():\n",
    "\n",
    "# generating list of numbers: \n",
    "import random\n",
    "def genRandom(N):\n",
    "    return [random.randint(0, 100) for _ in range(N)]\n",
    "\n",
    "# find elements graeter than the average:\n",
    "def filterAvgerage():\n",
    "    filtered = []\n",
    "    N = int(input('eneter length of your list: '))\n",
    "\n",
    "    # generate a list of numbers:\n",
    "    numbers = genRandom(N)\n",
    "    print('the original list:', numbers)\n",
    "    # calculate the average:\n",
    "    s = sum(numbers)\n",
    "    avg = s / N    # total divid by length of list numbers\n",
    "    \n",
    "    # find numbers graeter than the avg:\n",
    "    for v in numbers:\n",
    "        if v > avg:\n",
    "            filtered.append(v)\n",
    "\n",
    "    return avg, filtered\n",
    "# call the filterAverage():  \n",
    "average, filtered_list = filterAvgerage()\n",
    "\n",
    "print('The average: ', average)\n",
    "print('Filtered list: ', filtered_list)          "
   ]
  },
  {
   "cell_type": "code",
   "execution_count": 26,
   "metadata": {},
   "outputs": [
    {
     "name": "stdout",
     "output_type": "stream",
     "text": [
      "list A: [1, 2, 3]\n",
      "list B: [4, 5, 6]\n",
      "A + B:  [5, 7, 9]\n"
     ]
    }
   ],
   "source": [
    "# Exercice 04, take multiple user inputs in a single line than convert strin numbers to integers:\n",
    "# define get input,,split,convert function:\n",
    "def getInput(user_input):\n",
    "    # get user input:\n",
    "    user_input = input('enter numbers in a single line: ')\n",
    "\n",
    "    # split and convert:\n",
    "    return [int(ch) for ch in user_input.split(' ')]\n",
    "\n",
    "# define function to some elements of two lists at the same index:\n",
    "def sum_lists(A, B):\n",
    "    # case length are differents:\n",
    "    if len(A) != len(B):\n",
    "        raise ValueError(\"The two lists must be with the same length.\")\n",
    "    return [a + b for a, b in zip(A, B)]\n",
    "\n",
    "# define main():\n",
    "def main():\n",
    "\n",
    "    # call getInput() to get the inputs:\n",
    "    A = getInput('enter the first set of numbers: ')\n",
    "    B = getInput('Enter the second set of numbers: ')\n",
    "\n",
    "    print('list A:', A)\n",
    "    print('list B:', B)    \n",
    "    # call sum_lists() to sum the inputs:\n",
    "    sum = sum_lists(A, B)\n",
    "    print('A + B: ', sum)\n",
    "    \n",
    "\n",
    "if __name__ == '__main__':\n",
    "    main()    \n",
    "    \n",
    "\n"
   ]
  },
  {
   "cell_type": "code",
   "execution_count": 29,
   "metadata": {},
   "outputs": [
    {
     "name": "stdout",
     "output_type": "stream",
     "text": [
      "[2, 2, 2, 2, 4, 5, 6, 6, 7, 8, 8, 8, 8, 8, 8]\n",
      "the most frequent number is : 8\n",
      "The number of times 8 occured is 6\n"
     ]
    }
   ],
   "source": [
    "# Exercice 05 , count() function:\n",
    "\n",
    "# get user input in one sigle line:\n",
    "def getInput(user_input):\n",
    "    user_input = input('Enter numbers in a single line: ')\n",
    "\n",
    "    # split and convert the the user input:\n",
    "    return [int(num) for num in user_input.split()]\n",
    "\n",
    "# find the most occured number:\n",
    "def findMost():\n",
    "\n",
    "    # calling getInput() to get user input:\n",
    "    numbers = getInput('Enter numbers: ')\n",
    "    print(numbers)\n",
    "\n",
    "    # finding the most occured number:\n",
    "    max_mostOcc = 0  # number of occurance initially\n",
    "    most_freqNum = None # the most frequent number not found yet\n",
    "\n",
    "    for v in numbers:\n",
    "\n",
    "        # calculate count for each value:\n",
    "        cnt_val = numbers.count(v)\n",
    "\n",
    "        # compare each c_val with max_mostOcc:\n",
    "        if cnt_val > max_mostOcc:\n",
    "            max_mostOcc = cnt_val\n",
    "            most_freqNum = v\n",
    "\n",
    "    return most_freqNum, max_mostOcc\n",
    "\n",
    "# calling findMost():    \n",
    "mostfreqentnumber, maxmostocc = findMost()\n",
    "print('the most frequent number is :', mostfreqentnumber)\n",
    "print(f'The number of times {mostfreqentnumber} occured is {maxmostocc}')\n",
    "         "
   ]
  },
  {
   "cell_type": "code",
   "execution_count": 34,
   "metadata": {},
   "outputs": [
    {
     "name": "stdout",
     "output_type": "stream",
     "text": [
      "the original list is: [1, 5, 2, 8, 2]\n",
      "the reversed list is: [2, 8, 2, 5, 1]\n"
     ]
    }
   ],
   "source": [
    "# Exercice 06, reverse a list:\n",
    "\n",
    "# function to get user input:  \n",
    "def getInput():\n",
    "    user_input = input('Enter numbers in a single line: ')\n",
    "\n",
    "    # split and convert:\n",
    "    return [int(num) for num in user_input.split()]\n",
    "\n",
    "# function to reverse the numbers:\n",
    "def Makereverse():\n",
    "\n",
    "    # call getInput():\n",
    "    numbers = getInput()\n",
    "\n",
    "    # reversing the numbers:\n",
    "    reversed_numbers = [] # to hold the reversed list\n",
    "    \n",
    "    # iterate from the end (exluding last number), to -1 (including the first number) with the step -1 (recursively): \n",
    "    for i in range((len(numbers)-1), -1, -1): \n",
    "        # append each number to 'reversed_numbers':\n",
    "        reversed_numbers.append(numbers[i])\n",
    "    return numbers, reversed_numbers\n",
    "\n",
    "# calling Makereverse():\n",
    "lst, reversed_lst = Makereverse()\n",
    "print(f'the original list is: {lst}\\nthe reversed list is: {reversed_lst}')  \n",
    "   \n"
   ]
  },
  {
   "cell_type": "code",
   "execution_count": 37,
   "metadata": {},
   "outputs": [
    {
     "name": "stdout",
     "output_type": "stream",
     "text": [
      "original list is: [1, 2, 3, 4, 5, 6, 7, 8, 9]\n",
      "original list becomes: [2, 4, 6, 8]\n",
      "the new list is: [1, 3, 5, 7, 9]\n"
     ]
    }
   ],
   "source": [
    "# Exercice 07, return numbers at even index:\n",
    "\n",
    "# user input:\n",
    "def getInput():\n",
    "\n",
    "    user_input = input('Enter numbers in a single line: ')\n",
    "    \n",
    "    #convert and split the numbers:\n",
    "    return [int(num) for num in user_input.split()]\n",
    "\n",
    "# define function to return only numbers at even index:\n",
    "def num_at_evenIndx():\n",
    "    # get the numbers:\n",
    "    numbers = getInput()\n",
    "    print('original list is:', numbers)\n",
    "    \n",
    "    # find numbers at even position:\n",
    "    lstnum_evenidx = []  # to hold the numbers at even index\n",
    "    n = len(numbers)\n",
    "    for i in range((n-1), -1, -1): # step is -1 (recursive iterations)\n",
    "        # make sure index i is even:\n",
    "        if i % 2 == 0: # i is even\n",
    "\n",
    "            lstnum_evenidx.append(numbers[i])\n",
    "            numbers.pop(i) # delete the number at even index from the list numbers \n",
    "\n",
    "            # update index i jsut after the deleting:\n",
    "            i -= 1 # (i = i - 1)\n",
    "\n",
    "    # reversing the new list ,since we started the process from the last number to first:\n",
    "    lstnum_evenidx.reverse()\n",
    "\n",
    "    return numbers, lstnum_evenidx \n",
    "\n",
    "# call the num_at_atevenIndx() function:\n",
    "numbers, lstnumatevenindex = num_at_evenIndx()\n",
    "print(f'original list becomes: {numbers}\\nthe new list is: {lstnumatevenindex}')  \n"
   ]
  },
  {
   "cell_type": "code",
   "execution_count": 42,
   "metadata": {},
   "outputs": [
    {
     "name": "stdout",
     "output_type": "stream",
     "text": [
      "6 is inserted at postion 5\n",
      "[1, 2, 3, 4, 5, 6]\n"
     ]
    }
   ],
   "source": [
    "# Exercice 08, insert a number at the right position:\n",
    "\n",
    "def getInput():\n",
    "    user_input = input('Enter numbers in a single line: ')\n",
    "\n",
    "    # covert and split user inpt:\n",
    "    return [int(num) for num in user_input.split()]\n",
    "\n",
    "def insertNum():\n",
    "    # get user input:\n",
    "    numbers = getInput()\n",
    "\n",
    "    # insert a number at the correct postion in the list numbers:\n",
    "    num_to_insrt = int(input('Enter the number you want to insert: '))\n",
    "\n",
    "    for i in range(len(numbers)):\n",
    "        if numbers[i] > num_to_insrt:\n",
    "            numbers.insert(i, num_to_insrt)\n",
    "\n",
    "            print(num_to_insrt, 'is inserted at postion', i)\n",
    "            break\n",
    "    # if no number is greater than the num_to_insrt, so insert at the end of the list:     \n",
    "    else:\n",
    "        numbers.insert(i+1, num_to_insrt)\n",
    "        print(num_to_insrt, 'is inserted at postion', i+1)\n",
    "\n",
    "    print(numbers)\n",
    "\n",
    "# test:\n",
    "insertNum()\n"
   ]
  },
  {
   "cell_type": "code",
   "execution_count": 44,
   "metadata": {},
   "outputs": [
    {
     "name": "stdout",
     "output_type": "stream",
     "text": [
      "longest name is: Joanne\n",
      "shortest name is: Bill\n"
     ]
    }
   ],
   "source": [
    "# Exercice 09, find shortest and longest name :\n",
    "\n",
    "def find_shrt_lngt():\n",
    "    # get user input in one single line:\n",
    "    names = input('Enter names in one single line: ')\n",
    "\n",
    "    # split the names to make a list:\n",
    "    list_names = [name for name in names.split()]\n",
    "\n",
    "    # initially:\n",
    "    shortest_name = longest_name = list_names[0] # first element\n",
    "\n",
    "    for name in list_names:\n",
    "        # find the longest name:\n",
    "        if len(name) > len(longest_name):\n",
    "            longest_name = name\n",
    "\n",
    "        elif len(name) == len(longest_name): # if they are equal in len,\n",
    "            # than compare based in order alphabet:\n",
    "            if name > longest_name:\n",
    "                longest_name = name\n",
    "\n",
    "\n",
    "        # find the shortest name:\n",
    "        if len(name) < len(shortest_name):\n",
    "            shortest_name = name\n",
    "\n",
    "        elif len(name) == len(shortest_name): # if they are equal in len,\n",
    "            # than compare based in order alphabet:\n",
    "            if name < shortest_name:\n",
    "                shortest_name = name\n",
    "\n",
    "    return longest_name, shortest_name\n",
    "\n",
    "# test:\n",
    "longest_name, shortest_name = find_shrt_lngt()\n",
    "print(f'longest name is: {longest_name}\\nshortest name is: {shortest_name}')                    \n",
    "                      "
   ]
  },
  {
   "cell_type": "code",
   "execution_count": 90,
   "metadata": {},
   "outputs": [
    {
     "name": "stdout",
     "output_type": "stream",
     "text": [
      "original list: [25, 15, 5, 10, 0, 1, 7, -1] \n",
      "\n",
      "i=0: [-1, 15, 5, 10, 0, 1, 7, 25]\n",
      "i=1: [-1, 0, 5, 10, 15, 1, 7, 25]\n",
      "i=2: [-1, 0, 1, 10, 15, 5, 7, 25]\n",
      "i=3: [-1, 0, 1, 5, 15, 10, 7, 25]\n",
      "i=4: [-1, 0, 1, 5, 7, 10, 15, 25]\n",
      "i=5: [-1, 0, 1, 5, 7, 10, 15, 25]\n",
      "i=6: [-1, 0, 1, 5, 7, 10, 15, 25]\n",
      "i=7: [-1, 0, 1, 5, 7, 10, 15, 25]\n"
     ]
    }
   ],
   "source": [
    "# Exercice 10, find thge smallest value at index j_th (j_th = i+1_th) and place at postion i:\n",
    "\n",
    "def find_smalst(numbers, i):\n",
    "    # index validation:\n",
    "    if i < 0 or i >= len(numbers):\n",
    "        return None\n",
    "\n",
    "    # initially:\n",
    "    smalest_index = i\n",
    "    smalst_value = numbers[i]\n",
    "    \n",
    "    # (j = i+1) find the smallest number at j_th position in the unserted part numbers:\n",
    "    for j in range(i+1, len(numbers)):\n",
    "\n",
    "        if numbers[j] < smalst_value: # smalst_value = numbers[i]\n",
    "            smalst_value = numbers[j]\n",
    "            smalest_index = j\n",
    "\n",
    "    # Swap the values or place the smallest value at index i position:\n",
    "    numbers[i], numbers[smalest_index] = numbers[smalest_index], numbers[i]  \n",
    "    \n",
    "    return numbers\n",
    "    \n",
    "       \n",
    "    \n",
    "# test:\n",
    "numbers = [25, 15, 5, 10, 0, 1, 7, -1]  # len(numbers) = 8\n",
    "#find_smalst(numbers, 0)\n",
    "#find_smalst(numbers, 1)\n",
    "#find_smalst(numbers, 2)\n",
    "# ....findsmallest(numbers, 2.3.4...7)\n",
    "\n",
    "print('original list:', numbers, '\\n')\n",
    "'''\n",
    "find_smalst(numbers, 0)\n",
    "  \n",
    "\n",
    "find_smalst(numbers, 1)\n",
    "\n",
    "\n",
    "find_smalst(numbers, 2)\n",
    "\n",
    "'''\n",
    "for i in range(len(numbers)):\n",
    "    print(f'i={i}: {find_smalst(numbers, i)}')\n",
    "    \n",
    "   "
   ]
  },
  {
   "cell_type": "code",
   "execution_count": 91,
   "metadata": {},
   "outputs": [
    {
     "name": "stdout",
     "output_type": "stream",
     "text": [
      "[0, 4, 3]\n"
     ]
    }
   ],
   "source": [
    "# Assignmenets:\n",
    "\n",
    "\n",
    "'''\n",
    "are = ['a', 'r', 'e']\n",
    "idxlst = ['assertive'.find(are[j]) for j in range(len(are))]  # find index of 'a', 'r' and 'e' in 'assertive' string\n",
    "print(idxlst)'''\n"
   ]
  },
  {
   "cell_type": "code",
   "execution_count": 98,
   "metadata": {},
   "outputs": [
    {
     "name": "stdout",
     "output_type": "stream",
     "text": [
      "The number with max gap is: 50\n"
     ]
    }
   ],
   "source": [
    "# Assignment 7-1:\n",
    "def getFarNumber(numbers):\n",
    "    # calculate the average of the list 'numbers':\n",
    "    average = sum(numbers) / len(numbers)\n",
    "\n",
    "    # calculate gaps:\n",
    "    gaps = [abs(average - v) for v in numbers]\n",
    "    \n",
    "    # find the greatest gap in the list_gaps:\n",
    "    max_gap = max(gaps)\n",
    "\n",
    "    # find the number that has the max_gap:\n",
    "    num_with_max_gap = [num for num, gap in zip(numbers, gaps) if gap == max_gap]\n",
    "    print('The number with max gap is:', num_with_max_gap[0])\n",
    "\n",
    "# test:\n",
    "numbers = [10, 5, 20, 0, 40, 45, 50]\n",
    "\n",
    "getFarNumber(numbers)\n"
   ]
  },
  {
   "cell_type": "code",
   "execution_count": 104,
   "metadata": {},
   "outputs": [
    {
     "name": "stdout",
     "output_type": "stream",
     "text": [
      "True\n",
      "False\n"
     ]
    }
   ],
   "source": [
    "# assignment 7-2 , determine the sublist:\n",
    "\n",
    "def isSubList(numbers1, numbers2):\n",
    "\n",
    "    for n1 in numbers1:\n",
    "        found_n1 = False # intialy n1 is not found yet\n",
    "\n",
    "        # cheching if n1 exist in the list numbers2:\n",
    "        for n2 in numbers2:\n",
    "\n",
    "            # comparing the numbers n1, n2:\n",
    "            if n1 == n2:\n",
    "\n",
    "                # mark found_n1 is true:\n",
    "                found_n1 = True\n",
    "\n",
    "                break  # break out from the inner loop , since the current n1 is found in the list numbers2\n",
    "        \n",
    "        # the function return False in this level:\n",
    "        if not found_n1: # (means found_n1 still false) if any n1 not found in numbers2, \n",
    "            return False # so numbers1 is not a sub list of numbers2\n",
    "    \n",
    "    # the function return True, in this level:\n",
    "    return True  # means all the numbers(n1) were found in the list numbers2. so numbers1 is a sub list list of numbers2. \n",
    "\n",
    "\n",
    "# test1:\n",
    "l1 = [9, 0]\n",
    "l2 = [2, 5, 6, 9, 20, 0]\n",
    "\n",
    "print(isSubList(l1, l2))  # True\n",
    "\n",
    "# test2:\n",
    "l3 = [9, 0, 77]\n",
    "l4 = [2, 5, 6, 9, 20, 0]\n",
    "\n",
    "print(isSubList(l3, l4))  # False\n",
    "\n"
   ]
  },
  {
   "cell_type": "code",
   "execution_count": 107,
   "metadata": {},
   "outputs": [
    {
     "name": "stdout",
     "output_type": "stream",
     "text": [
      "[1, 2, 3, 4, 5]\n",
      "[5, 20, 25, 30, 35, 50]\n"
     ]
    }
   ],
   "source": [
    "# Assignment 7-3 : Insert an element into the list\n",
    "def insertOne(numbers, val):\n",
    "\n",
    "    index = 0\n",
    "\n",
    "    while index < len(numbers) and numbers[index] < val:\n",
    "\n",
    "        # increament the index by adding 1:\n",
    "        index +=1\n",
    "\n",
    "    # once the val is greater than any number of list numbers, than insert val at that position  \n",
    "    numbers.insert(index, val)\n",
    "    print(numbers)\n",
    "\n",
    "# test1:\n",
    "lst1 = [1, 2, 4, 5]\n",
    "insertOne(lst1, 3)\n",
    "# test2:\n",
    "lst2 = [5, 20, 30, 35, 50]\n",
    "insertOne(lst2, 25)"
   ]
  },
  {
   "cell_type": "code",
   "execution_count": 132,
   "metadata": {},
   "outputs": [
    {
     "name": "stdout",
     "output_type": "stream",
     "text": [
      "2 removed,\n",
      " new list: [5, 5, 6, 7, 8]\n",
      "5 removed,\n",
      " new list: [6, 7, 8]\n"
     ]
    }
   ],
   "source": [
    "# Assignment 7-4 : delete an element from the list\n",
    "\n",
    "# get user input:\n",
    "def getInput():\n",
    "    user_input = int(input('Enter the number you want to delete: '))\n",
    "    return user_input\n",
    "\n",
    "def deleteOne(numbers, val):\n",
    "\n",
    "    try:\n",
    "        \n",
    "\n",
    "        # attemp to remove the value val:\n",
    "        if val not in numbers:\n",
    "            print(f'{val} not removed,\\nstill same list: {numbers} because')\n",
    "            raise ValueError(f'{val} deos not exist in the list {numbers}.\\n')\n",
    "           \n",
    "          \n",
    "        # else, find val and remove it:\n",
    "        while val in numbers:\n",
    "            numbers.remove(val)\n",
    "\n",
    "        # after removing val:     \n",
    "        print(f'{val} removed,\\n new list: {numbers}')    \n",
    "          \n",
    "\n",
    "    except ValueError as e: \n",
    "        print(e)\n",
    "\n",
    "\n",
    "# tests:\n",
    "l = [2, 5, 5, 6, 7, 8]\n",
    "\n",
    "\n",
    "val1 = getInput()\n",
    "deleteOne(l, val1)\n",
    "\n",
    "\n",
    "val2 = getInput()\n",
    "deleteOne(l, val2)\n"
   ]
  },
  {
   "cell_type": "code",
   "execution_count": 133,
   "metadata": {},
   "outputs": [
    {
     "name": "stdout",
     "output_type": "stream",
     "text": [
      "(True, '[20, 30, 35]: is a sub set of: [5, 20, 30, 35, 50]')\n"
     ]
    }
   ],
   "source": [
    "# Assignment 7-5 : Subset of List\n",
    "def is_sublist(main_list, sub_list):\n",
    "    # convert lists to tuples to maintine the sequences:\n",
    "    main_tuple = tuple(main_list)\n",
    "    sub_tuple = tuple(sub_list)\n",
    "    \n",
    "    n = len(main_tuple) \n",
    "    p = len(sub_tuple)\n",
    "\n",
    "    end = (n - p) + 1 # (len(main_tuple) - len(sub_tuple))\n",
    "\n",
    "    # iterate throug the main_tuple: \n",
    "    for i in range(0, end):\n",
    "\n",
    "        # comparing each slice of main_tuple with the sub_tuple:\n",
    "        if main_tuple[i : i + p] == sub_tuple:\n",
    "            message = f'{sub_list}: is a sub set of: {main_list}'\n",
    "            return True, message # if they are same.\n",
    "\n",
    "    # if they are not same:\n",
    "    message = f'{sub_list}: is not a sub set of: {main_list}'\n",
    "    return False, message       \n",
    "\n",
    "\n",
    "# Example usage\n",
    "main_list = [5, 20, 30, 35, 50]\n",
    "sublist = [20, 30, 35]\n",
    "print(is_sublist(main_list, sublist))  "
   ]
  },
  {
   "cell_type": "code",
   "execution_count": 149,
   "metadata": {},
   "outputs": [
    {
     "name": "stdout",
     "output_type": "stream",
     "text": [
      "[1, 2, 3, 4, 5, 6, 8]\n"
     ]
    }
   ],
   "source": [
    "# Assignment 7-6 : Merge two lists\n",
    "\n",
    "# first method:\n",
    "def insertOne(num1, num2):\n",
    "\n",
    "    # num1 is the list of numbers to insert in the list num2:\n",
    "    merged = num2\n",
    "    for n1 in num1:  # take every number n1 from the list num1\n",
    "\n",
    "        index = 0\n",
    "        \n",
    "        # check if the there's any first smaller number than n1 in num2:\n",
    "        while index < len(num2) and num2[index] < n1:\n",
    "            \n",
    "            \n",
    "            # increament the index by adding 1:\n",
    "            index +=1\n",
    "\n",
    "        # once the first smaller number than n1  was found in num2, than insert n1 at that position in the list num2  \n",
    "        merged.insert(index, n1)\n",
    "    \n",
    "        \n",
    "\n",
    "    return merged\n",
    "\n",
    "# test:\n",
    "\n",
    "lst1 = [1, 3, 5]\n",
    "lst2 = [2, 4, 6, 8]\n",
    "\n",
    "print(insertOne(lst1, lst2))     "
   ]
  },
  {
   "cell_type": "code",
   "execution_count": 21,
   "metadata": {},
   "outputs": [
    {
     "name": "stdout",
     "output_type": "stream",
     "text": [
      "[1, 2, 3, 4, 5, 6, 8]\n"
     ]
    }
   ],
   "source": [
    "# Assignment 7-6 : Merge two lists\n",
    "# second method:\n",
    "def insertOne(num1, num2):\n",
    "    merged = []\n",
    "\n",
    "    i, j = 0, 0 # initialy\n",
    "   \n",
    "    while i < len(num1) and j < len(num2):\n",
    "    \n",
    "        \n",
    "        if num1[i] < num2[j]:\n",
    "            \n",
    "            # append from num1:\n",
    "            merged.append(num1[i])\n",
    "\n",
    "            i+=1 \n",
    "           \n",
    "           \n",
    "        else: # append from num2;\n",
    "            merged.append(num2[j])\n",
    "           \n",
    "            j+=1\n",
    "           \n",
    "\n",
    "\n",
    "    # if there are remaining numbers in num1 , add them:\n",
    "    while i < len(num1):\n",
    "        merged.append(num1[i])\n",
    "        i+=1\n",
    "        \n",
    "\n",
    "    # if there are remaining numbers in num2 , add them:\n",
    "    while j < len(num2):\n",
    "        merged.append(num2[j]) \n",
    "        j+=1  \n",
    "        \n",
    "              \n",
    "\n",
    "    return merged \n",
    "\n",
    "# test:\n",
    "\n",
    "lst1 = [1, 3, 5]\n",
    "lst2 = [2, 4, 6, 8]\n",
    "\n",
    "print(insertOne(lst1, lst2))     "
   ]
  },
  {
   "cell_type": "code",
   "execution_count": 23,
   "metadata": {},
   "outputs": [
    {
     "data": {
      "text/plain": [
       "[1, 4, 2, 5, 3, 6, 7]"
      ]
     },
     "execution_count": 23,
     "metadata": {},
     "output_type": "execute_result"
    }
   ],
   "source": [
    "# Assignment 7-7 : Shuffle two lists\n",
    "def shuffle(num1, num2):\n",
    "    i = 0\n",
    "    j = 0\n",
    "    shuffle = []\n",
    "    while i < len(num1) and j < len(num2):\n",
    "        shuffle.append(num1[i])\n",
    "        shuffle.append(num2[j])\n",
    "\n",
    "        i+=1\n",
    "        j+=1\n",
    "\n",
    "    # append the remain from num1 if any:\n",
    "    \n",
    "    while i < len(num1):\n",
    "        shuffle.append(num1[i])\n",
    "        i+=1\n",
    "\n",
    "    # append the remain from num2 if any:    \n",
    "    while j < len(num2):\n",
    "        shuffle.append(num2[j])\n",
    "        j+=1\n",
    "\n",
    "    return shuffle\n",
    "\n",
    "l1 = [1, 2, 3]\n",
    "l2 = [4, 5, 6, 7]\n",
    "\n",
    "shuffle(l1, l2)"
   ]
  },
  {
   "cell_type": "code",
   "execution_count": 27,
   "metadata": {},
   "outputs": [
    {
     "name": "stdout",
     "output_type": "stream",
     "text": [
      "['are', 'amore', 'carter', 'marginale', 'reparer']\n"
     ]
    }
   ],
   "source": [
    "# Assignment 7-8 : Substring\n",
    "def hasAre(words):\n",
    "    answer = []  # to hold words that contains 'a','r' and 'e'\n",
    "    for word in words:  # iterate over the list of words\n",
    "        # if find method return 0 for every word so the word contains a,r and e  \n",
    "        if (word.find('a') != -1) and (word.find('r') != -1) and (word.find('e') != -1):\n",
    "            answer.append(word)  # append the word if the condition is true\n",
    "\n",
    "    return answer # return the answer\n",
    "\n",
    "# test:\n",
    "words = ['are', 'arrow', 'amore', 'arrogant', 'carter', 'marginale', 'reparer']\n",
    "answer = hasAre(words)\n",
    "\n",
    "print(answer)\n"
   ]
  },
  {
   "cell_type": "code",
   "execution_count": 63,
   "metadata": {},
   "outputs": [
    {
     "name": "stdout",
     "output_type": "stream",
     "text": [
      "99\n"
     ]
    }
   ],
   "source": [
    "# Assignment 7-9 : two dimensional list\n",
    "# find the max of two dimentional list\n",
    "\n",
    "def  getMaxElement(numbers):\n",
    "\n",
    "    max_num = numbers[0][0]\n",
    "    \n",
    "    for num in numbers:\n",
    "        for i in range(len(num)):\n",
    "            \n",
    "            if num[i] > max_num:\n",
    "                max_num = num[i]\n",
    "\n",
    "               \n",
    "    return max_num\n",
    "\n",
    "# test:\n",
    "numbers = [[99, 11, 66, 86, 55],\n",
    "            [44, 21, 65, 88, 24, 56],\n",
    "            [33, 77, 32, 33, 34]]\n",
    "\n",
    "max_num = getMaxElement(numbers)\n",
    "print(max_num)\n",
    "\n",
    "\n",
    "\n"
   ]
  },
  {
   "cell_type": "code",
   "execution_count": 47,
   "metadata": {},
   "outputs": [
    {
     "name": "stdout",
     "output_type": "stream",
     "text": [
      "[317, 298, 209]\n"
     ]
    }
   ],
   "source": [
    "# Assignment 7-9 : two dimensional list\n",
    "# row summations:\n",
    "def getSumRows(numbers):\n",
    "    total_rows = []\n",
    "    for row in numbers: # every row\n",
    "\n",
    "        # summing each row:\n",
    "        tot_row = 0\n",
    "        for i in range(len(row)): # every number in a row\n",
    "            \n",
    "            tot_row = tot_row + row[i]\n",
    "        \n",
    "        # appending each sum of each row:\n",
    "        total_rows.append(tot_row)     \n",
    "\n",
    "    return total_rows\n",
    "\n",
    "# test:\n",
    "numbers = [[99, 11, 66, 86, 55],\n",
    "            [44, 21, 65, 88, 24, 56],\n",
    "            [33, 77, 32, 33, 34]]             \n",
    "totalrows = getSumRows(numbers)\n",
    "print(totalrows)"
   ]
  },
  {
   "cell_type": "code",
   "execution_count": 69,
   "metadata": {},
   "outputs": [
    {
     "name": "stdout",
     "output_type": "stream",
     "text": [
      "[176, 109, 163, 207, 113, 56]\n"
     ]
    }
   ],
   "source": [
    "# Assignment 7-9 : two dimensional list\n",
    "# columns summation:\n",
    "\n",
    "def getSumCols(numbers):\n",
    "    \n",
    "    \n",
    "    #max_len = max(len(row) for row in numbers) # numbers[i] = rows\n",
    "    total_cols = [0, 0, 0, 0, 0, 0]# * max_len # in this case:[0, 0, 0, 0, 0, 0]\n",
    "    \n",
    "\n",
    "    for row in numbers: # select every list\n",
    "\n",
    "        for j in range(len(row)): # select every number in a list\n",
    "            \n",
    "            total_cols[j] += row[j]\n",
    "\n",
    "    return total_cols       \n",
    "\n",
    "\n",
    "# test:\n",
    "numbers = [[99, 11, 66, 86, 55],\n",
    "            [44, 21, 65, 88, 24, 56],\n",
    "            [33, 77, 32, 33, 34]] \n",
    "\n",
    "totalcols= getSumCols(numbers)\n",
    "\n",
    "print(totalcols)\n",
    "\n",
    "\n",
    "        \n",
    "\n",
    "        \n",
    "    "
   ]
  }
 ],
 "metadata": {
  "kernelspec": {
   "display_name": "Python 3.8.5 ('base')",
   "language": "python",
   "name": "python3"
  },
  "language_info": {
   "codemirror_mode": {
    "name": "ipython",
    "version": 3
   },
   "file_extension": ".py",
   "mimetype": "text/x-python",
   "name": "python",
   "nbconvert_exporter": "python",
   "pygments_lexer": "ipython3",
   "version": "3.8.5"
  },
  "orig_nbformat": 4,
  "vscode": {
   "interpreter": {
    "hash": "ad2bdc8ecc057115af97d19610ffacc2b4e99fae6737bb82f5d7fb13d2f2c186"
   }
  }
 },
 "nbformat": 4,
 "nbformat_minor": 2
}
